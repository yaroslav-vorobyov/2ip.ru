{
 "cells": [
  {
   "cell_type": "code",
   "execution_count": 4,
   "metadata": {},
   "outputs": [],
   "source": [
    "# импорт библиотеки requests\n",
    "import requests\n",
    "\n",
    "# импорт библиотеки BeautifulSoup\n",
    "from bs4 import BeautifulSoup\n",
    "\n",
    "# импорт встроенной библиотеки для открытия страниц в браузере\n",
    "import webbrowser\n",
    "\n",
    "# URL страницы для запроса\n",
    "happy_ip_url = 'https://2ip.ru/happy-ip/'\n",
    "\n",
    "# GET-запрос к ресурсу и результат ответа сохраняем в переменной response\n",
    "response = requests.get(happy_ip_url, headers={'User-Agent': 'Mozilla/5.0'})\n",
    "\n",
    "# Создаём объект BeautifulSoup, указывая html-парсер\n",
    "page = BeautifulSoup(response.text, 'lxml')\n",
    "# page = BeautifulSoup(response.text, 'html.parser')"
   ]
  },
  {
   "cell_type": "code",
   "execution_count": null,
   "metadata": {},
   "outputs": [],
   "source": [
    "# проверим, что всё как надо выгружено\n",
    "# print(response.text)"
   ]
  },
  {
   "cell_type": "code",
   "execution_count": null,
   "metadata": {},
   "outputs": [],
   "source": [
    "# выводим статус ip на текущий момент\n",
    "print(ip_status:=page.find('div', class_='page_happy_ip__result_usual').text.strip())\n",
    "# Стандартный ответ (блоки a, b, c, d для ipv4): Ваш IP адрес: aaa.bbb.ccc.ddd — обычный"
   ]
  },
  {
   "cell_type": "code",
   "execution_count": 38,
   "metadata": {},
   "outputs": [
    {
     "name": "stdout",
     "output_type": "stream",
     "text": [
      "Ваш IP адрес: ОБЫЧНЫЙ\n"
     ]
    }
   ],
   "source": [
    "print(' '.join( [' '.join(ip_status.split()[:3]), ip_status.split()[-1].upper()] ))"
   ]
  },
  {
   "cell_type": "code",
   "execution_count": 8,
   "metadata": {},
   "outputs": [],
   "source": [
    "# если статус не \"обычный\", а \"счастливый\", то \n",
    "# открываем новую вкладку - страницу регистрации на 2ip.ru без приглашения\n",
    "if ip_status.split()[-1] != 'обычный':\n",
    "    webbrowser.open_new_tab(url='https://2ip.ru/registration/')"
   ]
  }
 ],
 "metadata": {
  "kernelspec": {
   "display_name": "Python 3",
   "language": "python",
   "name": "python3"
  },
  "language_info": {
   "codemirror_mode": {
    "name": "ipython",
    "version": 3
   },
   "file_extension": ".py",
   "mimetype": "text/x-python",
   "name": "python",
   "nbconvert_exporter": "python",
   "pygments_lexer": "ipython3",
   "version": "3.10.13"
  }
 },
 "nbformat": 4,
 "nbformat_minor": 2
}
